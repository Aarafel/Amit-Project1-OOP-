{
  "nbformat": 4,
  "nbformat_minor": 0,
  "metadata": {
    "colab": {
      "provenance": []
    },
    "kernelspec": {
      "name": "python3",
      "display_name": "Python 3"
    },
    "language_info": {
      "name": "python"
    }
  },
  "cells": [
    {
      "cell_type": "code",
      "execution_count": 73,
      "metadata": {
        "colab": {
          "base_uri": "https://localhost:8080/"
        },
        "id": "bIXHAwZ4XEmV",
        "outputId": "6f5ecbb6-7044-4660-b8db-4f0f4147074c"
      },
      "outputs": [
        {
          "output_type": "stream",
          "name": "stdout",
          "text": [
            "Current items in the cart:\n",
            "Apple: 5\n",
            "Banana: 3\n",
            "Orange: 2\n",
            "Apple: 2\n",
            "______\n",
            "\n",
            "Current items in the cart after removal of Banana\n",
            "Apple: 5\n",
            "Orange: 2\n",
            "Apple: 2\n",
            "______\n",
            "\n",
            "Current items in the cart:\n",
            "Apple: 5\n",
            "Orange: 2\n",
            "Apple: 2\n",
            "______\n",
            "\n",
            "enter how many to remove 2\n",
            "Current items in the cart:\n",
            "Apple: 3\n",
            "Orange: 2\n",
            "Apple: 0\n",
            "______\n",
            "\n"
          ]
        }
      ],
      "source": [
        "\n",
        "class ShoppingCart:\n",
        "  class_name = \"Shopping Cart\"\n",
        "\n",
        "  def __init__(self):\n",
        "    self.items = []\n",
        "\n",
        "  def add_item(self,item_name,quantity):\n",
        "    self.items.append((item_name,quantity)) #double () for making tuple\n",
        "\n",
        "  def remove_item(self, item_name):\n",
        "    for item in self.items:\n",
        "      if item[0] == item_name: # it compares each first name[0] at each tuple with the item_name\n",
        "        self.items.remove(item)\n",
        "        break\n",
        "    print(f\"Current items in the cart after removal of {item_name}\")\n",
        "    for item in self.items:\n",
        "      print(f\"{item[0]}: {item[1]}\")\n",
        "    print(\"______\\n\")\n",
        "\n",
        "  def remove_one_item(self, item_name):\n",
        "    minused_value = int(input(\"enter how many to remove \"))\n",
        "    for i,item in enumerate(self.items):\n",
        "      if item[0] == item_name: # it compares each first name[0] at each tuple with the item_name\n",
        "\n",
        "        modified_item = list(item)\n",
        "        modified_item[1] = modified_item[1]- minused_value\n",
        "        self.items[i] = tuple(modified_item)\n",
        "\n",
        "\n",
        "\n",
        "\n",
        "\n",
        "\n",
        "  def calculate_total(self):\n",
        "    Total = 0\n",
        "    for item in self.items:\n",
        "      Total += item[1]\n",
        "    return Total\n",
        "\n",
        "  def display(self):\n",
        "    print(\"Current items in the cart:\")\n",
        "    for item in self.items:\n",
        "      print(f\"{item[0]}: {item[1]}\")\n",
        "    print(\"______\\n\")\n",
        "\n",
        "\n",
        "\n",
        "cart = ShoppingCart()\n",
        "cart.add_item(\"Apple\", 5)\n",
        "cart.add_item(\"Banana\", 3)\n",
        "cart.add_item(\"Orange\", 2)\n",
        "cart.add_item(\"Apple\", 2)  # Adding duplicate item\n",
        "cart.calculate_total()\n",
        "\n",
        "\n",
        "cart.display()\n",
        "cart.calculate_total()\n",
        "\n",
        "cart.remove_item(\"Banana\")\n",
        "cart.display()\n",
        "cart.calculate_total()\n",
        "cart.remove_one_item(\"Apple\")\n",
        "cart.display()\n",
        "\n",
        "# I have issues in this code but the code works fine:\n",
        "# 1- can't add duplicate items on each other\n",
        "# 2- remove_one_item is method I made but it works on both duplicate and can be negative\n",
        "# 3- cart.calculate_total() workss only at the very end no matter how many times you call it\n",
        "\n",
        "\n"
      ]
    },
    {
      "cell_type": "code",
      "source": [],
      "metadata": {
        "id": "EcF7FY-nslDz"
      },
      "execution_count": 71,
      "outputs": []
    }
  ]
}